{
 "cells": [
  {
   "cell_type": "code",
   "execution_count": null,
   "metadata": {},
   "outputs": [],
   "source": [
    "from mitmproxy import http, ctx\n",
    "import time, re\n",
    "import logging\n",
    "import os"
   ]
  },
  {
   "cell_type": "code",
   "execution_count": null,
   "metadata": {
    "scrolled": true
   },
   "outputs": [],
   "source": [
    "distr = str(input(\"Directory: \")) #Директория для файлов\n",
    "start_file = distr + str(input(\"File to save filtred stream to: \")) #Файл, в который пойдёт весь отфильтрованый поток\n",
    "data_file = distr + str(input(\"Final file: \")) #Файл, куда будут сохранены нужные, раскодированные данные\n",
    "script = \"mitmdump_script.py\" #Скрипт, при помощи которого достаём необходимые данные\n",
    "with open (\"save.txt\", \"w\") as f: #Файл для передачи названия конечного файла скрипту\n",
    "    f.write(data_file)"
   ]
  },
  {
   "cell_type": "code",
   "execution_count": null,
   "metadata": {},
   "outputs": [],
   "source": [
    "start_file = 'requests.txt' #Файл, в который пойдёт весь отфильтрованый поток\n",
    "data_file = 'processed.txt' #Файл, куда будут сохранены нужные, раскодированные данные\n",
    "script = \"mitmdump_script.py\" #Скрипт, при помощи которого достаём необходимые данные\n",
    "with open (\"save.txt\", \"w\") as f: #Файл для передачи названия конечного файла скрипту\n",
    "    f.write(data_file)"
   ]
  },
  {
   "cell_type": "code",
   "execution_count": null,
   "metadata": {},
   "outputs": [],
   "source": [
    "def StartMITMDump(file):\n",
    "    # TODO change path to MITMdump\n",
    "    # os.system(\"mitmdump -w \" + file + \" -s responses_script.py '~t video/webm | ~t video/mp4'\")\n",
    "    os.system(\"mitmdump -w \" + file + \" -s responses_script.py '~t application/vnd.yt-um'\")\n",
    "def StopMITMDump():\n",
    "    time.sleep(int(input(\"Time to wait before stopping the flow: \")))\n",
    "    os.system(\"pkill mitmdump\")\n",
    "def ReceiveData(script, file):\n",
    "    # TODO change path to MITMdump\n",
    "    os.system(\"mitmdump -s \" + script + \" -nr \" + file)"
   ]
  },
  {
   "cell_type": "code",
   "execution_count": null,
   "metadata": {},
   "outputs": [],
   "source": [
    "StartMITMDump(start_file) #Запускаем mitmdump (не включать mitmproxy, не использовать прокси сервер для локалки). \n",
    "# Собираем потоки в файл."
   ]
  },
  {
   "cell_type": "code",
   "execution_count": null,
   "metadata": {},
   "outputs": [],
   "source": [
    "StopMITMDump() #Указываем через какое время в секундах остановить процесс mitmdump. Можно взять время с запасом\n",
    "# (так как ещё есть реклама) и заниматься другими делами, предварительно отключив автовоспроизведение на ютубе."
   ]
  },
  {
   "cell_type": "code",
   "execution_count": null,
   "metadata": {},
   "outputs": [],
   "source": [
    "ReceiveData(script, start_file) #Записываем нужные данные в файл при помощи скрипта."
   ]
  },
  {
   "cell_type": "code",
   "execution_count": null,
   "metadata": {
    "scrolled": true
   },
   "outputs": [],
   "source": [
    "d = {}\n",
    "itags = {\"133\":\"240 px\", \"134\":\"360 px\", \"135\": \"480 px\", \"136\": \"720 px\", \"137\": \"1080 px\", \"160\": \"144 px\", \n",
    "       \"264\": \"1440 px\", \"298\": \"720 px\", \"299\": \"1080 px\", \"167\": \"360 px\", \"168\": \"480 px\", \"169\": \"720 px\",\n",
    "       \"170\" : \"1080 px\", \"218\": \"480 px\", \"219\": \"144 px\", \"242\": \"240 px\", \"243\": \"360 px\", \"244\": \"480 px\", \n",
    "       \"245\": \"480 px\", \"246\": \"480 px\", \"247\": \"720 px\", \"248\": \"1080 px\", \"271\": \"1440 px\", \"278\": \"144 px\",\n",
    "       '399': '1080 px', '398': '720 px', '397': '480 px', '396': '360 px', '400': '1440 px', '401': '2160 px'} \n",
    "# Если встречаются неизвестные itag-и, можно найти, чему они соответствуют с помощью youtube-dl -F [ссылка на видео]\n",
    "with open(data_file, \"r\") as f:\n",
    "    a = [line.replace(\"\\n\",\"\").split(\",\") for line in f.readlines()]\n",
    "for idx, val in enumerate(a):\n",
    "    ranges = val[3].split('-')\n",
    "    d[idx] = {\"mime\":val[0], \"aitag\":itags[val[1]], \"duration\":val[2], \"range_start\":ranges[0], \"range_end\": ranges[1], \n",
    "              \"buffer\":val[4], \"clen\":val[5],\"first request byte\":val[6], \"request complete\":val[7], \n",
    "              \"first response byte\":val[8], \"response complete\":val[9]}\n",
    "print(d)"
   ]
  }
 ],
 "metadata": {
  "kernelspec": {
   "display_name": "Python 3",
   "language": "python",
   "name": "python3"
  },
  "language_info": {
   "codemirror_mode": {
    "name": "ipython",
    "version": 3
   },
   "file_extension": ".py",
   "mimetype": "text/x-python",
   "name": "python",
   "nbconvert_exporter": "python",
   "pygments_lexer": "ipython3",
   "version": "3.10.13"
  },
  "vscode": {
   "interpreter": {
    "hash": "b0fa6594d8f4cbf19f97940f81e996739fb7646882a419484c72d19e05852a7e"
   }
  }
 },
 "nbformat": 4,
 "nbformat_minor": 2
}
