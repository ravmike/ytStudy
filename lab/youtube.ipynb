{
 "cells": [
  {
   "cell_type": "code",
   "execution_count": null,
   "metadata": {},
   "outputs": [],
   "source": [
    "from mitmproxy import http, ctx\n",
    "import time, re\n",
    "import logging\n",
    "import os"
   ]
  },
  {
   "cell_type": "code",
   "execution_count": null,
   "metadata": {
    "scrolled": true
   },
   "outputs": [],
   "source": [
    "distr = str(input(\"Directory: \")) #Директория для файлов\n",
    "start_file = distr + str(input(\"File to save filtred stream to: \")) #Файл, в который пойдёт весь отфильтрованый поток\n",
    "data_file = distr + str(input(\"Final file: \")) #Файл, куда будут сохранены нужные, раскодированные данные\n",
    "script = \"mitmdump_script.py\" #Скрипт, при помощи которого достаём необходимые данные\n",
    "with open (\"save.txt\", \"w\") as f: #Файл для передачи названия конечного файла скрипту\n",
    "    f.write(data_file)"
   ]
  },
  {
   "cell_type": "code",
   "execution_count": null,
   "metadata": {},
   "outputs": [],
   "source": [
    "def StartMITMDump(file):\n",
    "    os.system(\"/home/michael/.local/bin/mitmdump -w \" + file + \" '~t video/webm | ~t video/mp4' &\")\n",
    "def StopMITMDump():\n",
    "    time.sleep(int(input(\"Time to wait before stopping the flow: \")))\n",
    "    os.system(\"pkill mitmdump\")\n",
    "def ReceiveData(script, file):\n",
    "    os.system(\"/home/michael/.local/bin/mitmdump   -s \" + script + \" -nr \" + file)"
   ]
  },
  {
   "cell_type": "code",
   "execution_count": null,
   "metadata": {},
   "outputs": [],
   "source": [
    "StartMITMDump(start_file) #Запускаем mitmdump (не включать mitmproxy, не использовать прокси сервер для локалки). \n",
    "# Собираем потоки в файл."
   ]
  },
  {
   "cell_type": "code",
   "execution_count": null,
   "metadata": {},
   "outputs": [],
   "source": [
    "StopMITMDump() #Указываем через какое время в секундах остановить процесс mitmdump. Можно взять время с запасом\n",
    "# (так как ещё есть реклама) и заниматься другими делами, предварительно отключив автовоспроизведение на ютубе."
   ]
  },
  {
   "cell_type": "code",
   "execution_count": null,
   "metadata": {},
   "outputs": [],
   "source": [
    "ReceiveData(script, start_file) #Записываем нужные данные в файл при помощи скрипта."
   ]
  },
  {
   "cell_type": "code",
   "execution_count": null,
   "metadata": {
    "scrolled": true
   },
   "outputs": [],
   "source": [
    "d = {}\n",
    "# https://gist.github.com/sidneys/7095afe4da4ae58694d128b1034e01e2\n",
    "mapp = {\"133\":\"240 px\", \"134\":\"360 px\", \"135\": \"480 px\", \"136\": \"720 px\", \"137\": \"1080 px\", \"160\": \"144 px\", \n",
    "       \"264\": \"1440 px\", \"298\": \"720 px\", \"299\": \"1080 px\", \"167\": \"360 px\", \"168\": \"480 px\", \"169\": \"720 px\",\n",
    "       \"170\" : \"1080 px\", \"218\": \"480 px\", \"219\": \"144 px\", \"242\": \"240 px\", \"243\": \"360 px\", \"244\": \"480 px\", \n",
    "       \"245\": \"480 px\", \"246\": \"480 px\", \"247\": \"720 px\", \"248\": \"1080 px\", \"271\": \"1440 px\", \"278\": \"144 px\",\n",
    "       \"298\": \"720 px\", \"299\": \"1080 px\", \"302\": \"720 px\", \"303\": \"1080 px\", \"308\": \"1440 px\", \"313\": \"2160 px\", \n",
    "        \"315\": \"2160 px\", \"330\": \"144 px\", \"331\": \"240 px\", \"332\": \"360 px\", \"333\": \"480 px\", \"334\": \"720 px\", \n",
    "        \"335\": \"1080 px\", \"336\": \"1440 px\", \"337\": \"2160 px\", \"272\": \"4320 px\", \"394\": \"144 px\", \"395\": \"240 px\", \n",
    "        \"396\": \"360 px\", \"397\": \"480 px\", \"398\": \"720 px\", \"399\": \"1080 px\", \"400\": \"1440 px\", \"401\": \"2160 px\", \n",
    "        \"402\": \"2880 px\"} \n",
    "#Нужно убедиться в правильности этого, мог запутаться.\n",
    "with open(data_file, \"r\") as f:\n",
    "    a = [line.replace(\"\\n\",\"\").split(\",\") for line in f.readlines()]\n",
    "for idx, val in enumerate(a):\n",
    "    d[idx] = {\"mime\":val[0], \"aitag\":mapp[val[1]], \"duration\":val[2], \"range\":val[3], \"buffer\":val[4], \"clen\":val[5],\n",
    "             \"first request byte\":val[6], \"request complete\":val[7], \"first response byte\":val[8],\n",
    "             \"response complete\":val[9]}\n",
    "d #Словарь для удобства"
   ]
  },
  {
   "cell_type": "code",
   "execution_count": null,
   "metadata": {},
   "outputs": [],
   "source": [
    "conn = sqlite3.connect(database) \n",
    "cursor = conn.cursor()\n",
    "\n",
    "for row in a:\n",
    "    row[1] = mapp[row[1]]\n",
    "db_rows = [tuple(val) for val in a]\n",
    "    \n",
    "try:\n",
    "    cursor.execute(\"\"\"CREATE TABLE request_data\n",
    "                  (mime text, aitag text, duration text,\n",
    "                   range text, buffer text, first_request_byte text, request_complete text, \n",
    "                   first_response_byte text, response_complete text) \"\"\")\n",
    "except:\n",
    "    pass\n",
    " \n",
    "cursor.executemany(\"INSERT INTO request_data VALUES (?,?,?,?,?,?,?,?,?)\", db_rows)\n",
    "conn.commit()\n",
    "\n",
    "cursor.execute(\"SELECT * FROM request_data\")\n",
    "for idx, row in enumerate(cursor.fetchall()):\n",
    "    print(str(idx) + \".\", row)\n",
    "cursor.close()\n",
    "conn.close()"
   ]
  },
  {
   "cell_type": "code",
   "execution_count": null,
   "metadata": {},
   "outputs": [],
   "source": []
  }
 ],
 "metadata": {
  "kernelspec": {
   "display_name": "Python 3",
   "language": "python",
   "name": "python3"
  },
  "language_info": {
   "codemirror_mode": {
    "name": "ipython",
    "version": 3
   },
   "file_extension": ".py",
   "mimetype": "text/x-python",
   "name": "python",
   "nbconvert_exporter": "python",
   "pygments_lexer": "ipython3",
   "version": "3.6.9"
  }
 },
 "nbformat": 4,
 "nbformat_minor": 2
}
